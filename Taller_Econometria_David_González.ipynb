{
  "nbformat": 4,
  "nbformat_minor": 0,
  "metadata": {
    "colab": {
      "provenance": [],
      "authorship_tag": "ABX9TyOksBTiCvXGOhYTC4G3SZpR",
      "include_colab_link": true
    },
    "kernelspec": {
      "name": "python3",
      "display_name": "Python 3"
    },
    "language_info": {
      "name": "python"
    }
  },
  "cells": [
    {
      "cell_type": "markdown",
      "metadata": {
        "id": "view-in-github",
        "colab_type": "text"
      },
      "source": [
        "<a href=\"https://colab.research.google.com/github/davidgonzalez14/clase_de_econometria-/blob/main/Taller_Econometria_David_Gonz%C3%A1lez.ipynb\" target=\"_parent\"><img src=\"https://colab.research.google.com/assets/colab-badge.svg\" alt=\"Open In Colab\"/></a>"
      ]
    },
    {
      "cell_type": "markdown",
      "source": [
        "#Punto 1"
      ],
      "metadata": {
        "id": "3fsaX-ztwOwc"
      }
    },
    {
      "cell_type": "code",
      "source": [
        "def suma(lista):\n",
        "    suma = 4\n",
        "    for number in lista:\n",
        "        suma += number\n",
        "    return suma\n",
        "\n",
        "lista1 = [1, 2, 3, 4, 5, 6, 7, 8, 9]\n",
        "resul = suma(lista1)\n",
        "print(resul)\n"
      ],
      "metadata": {
        "colab": {
          "base_uri": "https://localhost:8080/"
        },
        "id": "CoPQJI44uIRy",
        "outputId": "cfa072ed-c8f8-463d-dd81-d941cdeae5bd"
      },
      "execution_count": 8,
      "outputs": [
        {
          "output_type": "stream",
          "name": "stdout",
          "text": [
            "49\n"
          ]
        }
      ]
    },
    {
      "cell_type": "markdown",
      "source": [
        "#Punto 2"
      ],
      "metadata": {
        "id": "ynUM0-bI2zOU"
      }
    },
    {
      "cell_type": "code",
      "source": [
        "def common_elements(lista1, lista2):\n",
        "    common = []\n",
        "    for elemt in lista1:\n",
        "        if elemt in lista2 and elemt not in common:\n",
        "            common.append(elemt)\n",
        "    return common\n",
        "\n",
        "lista1 = [1, 2, 3, 4, 5, 6]\n",
        "lista2 = [3, 4, 5, 6, 7, 9]\n",
        "resul2 = common_elements(lista1, lista2)\n",
        "print(resul2)\n"
      ],
      "metadata": {
        "colab": {
          "base_uri": "https://localhost:8080/"
        },
        "id": "sGBct_9rwTQG",
        "outputId": "34fb5544-bf0e-42ce-ef93-aaa5a582cc1d"
      },
      "execution_count": 2,
      "outputs": [
        {
          "output_type": "stream",
          "name": "stdout",
          "text": [
            "[3, 4, 5, 6]\n"
          ]
        }
      ]
    },
    {
      "cell_type": "markdown",
      "source": [
        "#Punto 3"
      ],
      "metadata": {
        "id": "UjW-S544Wqr4"
      }
    },
    {
      "cell_type": "markdown",
      "source": [
        "#Punto 4"
      ],
      "metadata": {
        "id": "W-dDe9NHe9zC"
      }
    },
    {
      "cell_type": "code",
      "source": [
        "def pares(lista):\n",
        "    pares = []\n",
        "    for num in lista:\n",
        "        if num % 2 == 0:\n",
        "            pares.append(num)\n",
        "    return pares\n",
        "\n",
        "numeros = [1, 2, 3, 4, 5, 6, 7, 8, 9, 10]\n",
        "pares = pares(numeros)\n",
        "print(pares)\n"
      ],
      "metadata": {
        "colab": {
          "base_uri": "https://localhost:8080/"
        },
        "id": "t4L03oONhih_",
        "outputId": "8f62e2ea-7790-4920-e18e-e388b3355db5"
      },
      "execution_count": 4,
      "outputs": [
        {
          "output_type": "stream",
          "name": "stdout",
          "text": [
            "[2, 4, 6, 8, 10]\n"
          ]
        }
      ]
    },
    {
      "cell_type": "markdown",
      "source": [
        "#Punto 5"
      ],
      "metadata": {
        "id": "Uj4_o7mJe9tO"
      }
    },
    {
      "cell_type": "code",
      "source": [
        "def empiecé_a(lista):\n",
        "    a_cadenas = []\n",
        "    for cadena in lista:\n",
        "        if cadena[0] == \"a\":\n",
        "            a_cadenas.append(cadena)\n",
        "    return a_cadenas\n",
        "\n",
        "cadenas = [\"anatomico\", \"rosa\", \"antonimo\", \"alegría\", \"taza\", \"angel\", \"lazo\"]\n",
        "a_cadenas = empiecé_a(cadenas)\n",
        "print(a_cadenas)\n"
      ],
      "metadata": {
        "colab": {
          "base_uri": "https://localhost:8080/"
        },
        "id": "hKkbaMs4jkTa",
        "outputId": "6ed2680d-4fce-48eb-cf40-b63a8b3bbc24"
      },
      "execution_count": 7,
      "outputs": [
        {
          "output_type": "stream",
          "name": "stdout",
          "text": [
            "['anatomico', 'antonimo', 'alegría', 'angel']\n"
          ]
        }
      ]
    },
    {
      "cell_type": "markdown",
      "source": [
        "#Punto 6"
      ],
      "metadata": {
        "id": "hyWRZ-mTe9oN"
      }
    },
    {
      "cell_type": "code",
      "source": [
        "def valor_para_clave(diccionario, clave):\n",
        "    if clave in diccionario:\n",
        "        return diccionario[clave]\n",
        "    else:\n",
        "        return None\n",
        "\n",
        "mi_diccionario = {\"nombre\": \"Juan\", \"edad\": 25, \"ciudad\": \"Madrid\", \"fruta\" : \"manzana\", \"meses\": 12}\n",
        "clave1 = \"edad\"\n",
        "clave2 = \"meses\"\n",
        "valor = valor_para_clave(mi_diccionario, clave1)\n",
        "valor2 = valor_para_clave(mi_diccionario, clave2)\n",
        "print(f\"El valor asociado con la clave1 '{clave1}' es '{valor}'\")\n",
        "print(f\"El valor asociado con la clave2 '{clave2}' es '{valor2}'\")"
      ],
      "metadata": {
        "colab": {
          "base_uri": "https://localhost:8080/"
        },
        "id": "5YhX-mRDt7ft",
        "outputId": "8d156268-d20f-44d7-f678-4507fb7e0363"
      },
      "execution_count": 15,
      "outputs": [
        {
          "output_type": "stream",
          "name": "stdout",
          "text": [
            "El valor asociado con la clave1 'edad' es '25'\n",
            "El valor asociado con la clave2 'meses' es '12'\n"
          ]
        }
      ]
    },
    {
      "cell_type": "markdown",
      "source": [
        "#Punto 7"
      ],
      "metadata": {
        "id": "BlhYJFdfe9lb"
      }
    },
    {
      "cell_type": "code",
      "source": [
        "def diccionarios_con_clave(lista_diccionarios, clave):\n",
        "    diccionarios = []\n",
        "    for diccionario in lista_diccionarios:\n",
        "        if clave in diccionario:\n",
        "            diccionarios.append(diccionario)\n",
        "    return diccionarios\n",
        "\n",
        "lista = [{\"nombre\": \"Daniela\", \"edad\": 18}, {\"nombre\": \"Gabriel\", \"ciudad\": \"Manchester\"}, {\"edad\": 59, \"ciudad\": \"Liverpool\"}]\n",
        "clave = \"edad\"\n",
        "diccionarios_con_clave_edad = diccionarios_con_clave(lista, clave)\n",
        "print(diccionarios_con_clave_edad)\n"
      ],
      "metadata": {
        "colab": {
          "base_uri": "https://localhost:8080/"
        },
        "id": "wYH6b1zlw1Fo",
        "outputId": "74b5d173-ac88-4d28-80bb-472319548f8c"
      },
      "execution_count": 18,
      "outputs": [
        {
          "output_type": "stream",
          "name": "stdout",
          "text": [
            "[{'nombre': 'Daniela', 'edad': 18}, {'edad': 59, 'ciudad': 'Liverpool'}]\n"
          ]
        }
      ]
    },
    {
      "cell_type": "markdown",
      "source": [
        "#Punto 8"
      ],
      "metadata": {
        "id": "cMYWxch0e9i9"
      }
    },
    {
      "cell_type": "code",
      "source": [
        "def intercambiar_claves_valores(diccionario):\n",
        "    nuevo_diccionario = {}\n",
        "    for clave, valor in diccionario.items():\n",
        "        nuevo_diccionario[valor] = clave\n",
        "    return nuevo_diccionario\n",
        "\n",
        "mi_diccionario = {\"nombre\": \"David\", \"edad\": 20, \"ciudad\": \"Manchester\"}\n",
        "nuevo_diccionario = intercambiar_claves_valores(mi_diccionario)\n",
        "print(nuevo_diccionario)\n"
      ],
      "metadata": {
        "colab": {
          "base_uri": "https://localhost:8080/"
        },
        "id": "zWV3vq_8w8Ja",
        "outputId": "ea93ec23-7d46-4a40-a2e0-fba2d8c20710"
      },
      "execution_count": 20,
      "outputs": [
        {
          "output_type": "stream",
          "name": "stdout",
          "text": [
            "{'David': 'nombre', 20: 'edad', 'Manchester': 'ciudad'}\n"
          ]
        }
      ]
    },
    {
      "cell_type": "markdown",
      "source": [
        "#Punto 9"
      ],
      "metadata": {
        "id": "Q1o4xCioe9gV"
      }
    },
    {
      "cell_type": "code",
      "source": [
        "def diccionarios_comunes(diccionario1, diccionario2):\n",
        "    diccionario_comun = {}\n",
        "    for clave in diccionario1.keys():\n",
        "        if clave in diccionario2:\n",
        "            if diccionario1[clave] == diccionario2[clave]:\n",
        "                diccionario_comun[clave] = diccionario1[clave]\n",
        "    return diccionario_comun\n",
        "\n",
        "diccionario1 = {\"nombre\": \"Camilo\", \"edad\": 25, \"ciudad\": \"Paris\"}\n",
        "diccionario2 = {\"nombre\": \"Eduar\", \"edad\": 30, \"ciudad\": \"Paris\"}\n",
        "diccionario_comun = diccionarios_comunes(diccionario1, diccionario2)\n",
        "print(diccionario_comun)\n"
      ],
      "metadata": {
        "colab": {
          "base_uri": "https://localhost:8080/"
        },
        "id": "CAD8lOD8xBuk",
        "outputId": "20f5b703-9591-45a2-e2bd-320e2fb2a8f7"
      },
      "execution_count": 21,
      "outputs": [
        {
          "output_type": "stream",
          "name": "stdout",
          "text": [
            "{'ciudad': 'Paris'}\n"
          ]
        }
      ]
    },
    {
      "cell_type": "markdown",
      "source": [
        "#Punto 10"
      ],
      "metadata": {
        "id": "biZ5gDSoe9Ym"
      }
    },
    {
      "cell_type": "code",
      "source": [
        "def ordenar_claves(diccionario):\n",
        "    claves_ordenadas = sorted(diccionario.keys())\n",
        "    diccionario_ordenado = {}\n",
        "    for clave in claves_ordenadas:\n",
        "        diccionario_ordenado[clave] = diccionario[clave]\n",
        "    return diccionario_ordenado\n",
        "\n",
        "diccionario = {\"nombre\": \"Jhon\", \"edad\": 25, \"ciudad\": \"Barranquilla\"}\n",
        "diccionario_ordenado = ordenar_claves(diccionario)\n",
        "print(diccionario_ordenado)\n"
      ],
      "metadata": {
        "colab": {
          "base_uri": "https://localhost:8080/"
        },
        "id": "7Wa6c5o3xRha",
        "outputId": "eab61d69-0e19-46eb-e2af-04a2b35f9564"
      },
      "execution_count": 22,
      "outputs": [
        {
          "output_type": "stream",
          "name": "stdout",
          "text": [
            "{'ciudad': 'Barranquilla', 'edad': 25, 'nombre': 'Jhon'}\n"
          ]
        }
      ]
    },
    {
      "cell_type": "markdown",
      "source": [
        "#Punto 11"
      ],
      "metadata": {
        "id": "hXt6BiYGe9VF"
      }
    },
    {
      "cell_type": "code",
      "source": [
        "\n",
        "def suma(a, b):\n",
        "    return a + b\n",
        "result = suma(32, 58)\n",
        "print(result) \n"
      ],
      "metadata": {
        "colab": {
          "base_uri": "https://localhost:8080/"
        },
        "id": "sdE2Ipub3Nh6",
        "outputId": "e93f6a3b-fc26-4b4b-b80f-d5183aeea5f5"
      },
      "execution_count": 11,
      "outputs": [
        {
          "output_type": "stream",
          "name": "stdout",
          "text": [
            "90\n"
          ]
        }
      ]
    },
    {
      "cell_type": "markdown",
      "source": [
        "#Punto 12"
      ],
      "metadata": {
        "id": "ca4AtU_Je9Qu"
      }
    },
    {
      "cell_type": "code",
      "source": [
        "def filtrar_cadenas_longitud(cadenas, longitud):\n",
        "    return [cadena for cadena in cadenas if len(cadena) > longitud]\n",
        "cadenas = [\"hi\", \"bye\", \"good morning\", \"good afternoon\", \"good night\"]\n",
        "cadenas_largas = filtrar_cadenas_longitud(cadenas, 5)\n",
        "print(cadenas_largas) \n"
      ],
      "metadata": {
        "colab": {
          "base_uri": "https://localhost:8080/"
        },
        "id": "SEoYQIA54M71",
        "outputId": "ec8ed9fb-a1d6-49d1-9ec5-d4059f17042b"
      },
      "execution_count": 23,
      "outputs": [
        {
          "output_type": "stream",
          "name": "stdout",
          "text": [
            "['good morning', 'good afternoon', 'good night']\n"
          ]
        }
      ]
    },
    {
      "cell_type": "markdown",
      "source": [
        "#Punto 13"
      ],
      "metadata": {
        "id": "av6otKw9e8oz"
      }
    },
    {
      "cell_type": "code",
      "source": [
        "def es_palindromo(cadena):\n",
        "    cadena_sin_espacios = cadena.replace(\" \", \"\").lower()\n",
        "    return cadena_sin_espacios == cadena_sin_espacios[::-1]\n",
        "cadena = \"Son robos o sobornos\"\n",
        "if es_palindromo(cadena):\n",
        "    print(\"La cadena es un palíndromo\")\n",
        "else:\n",
        "    print(\"La cadena no es un palíndromo\")\n"
      ],
      "metadata": {
        "colab": {
          "base_uri": "https://localhost:8080/"
        },
        "id": "OEZFnY0P4XKS",
        "outputId": "522c9208-859b-4864-9181-d05ab745ca02"
      },
      "execution_count": 25,
      "outputs": [
        {
          "output_type": "stream",
          "name": "stdout",
          "text": [
            "La cadena es un palíndromo\n"
          ]
        }
      ]
    },
    {
      "cell_type": "markdown",
      "source": [
        "#Punto 14"
      ],
      "metadata": {
        "id": "HfbEQBJFhAtP"
      }
    },
    {
      "cell_type": "code",
      "source": [
        "def promedio(lista):\n",
        "    return sum(lista) / len(lista) if len(lista) > 0 else None\n",
        "lista = [4, 8, 15, 16, 21, 23, 42, 50]\n",
        "promedio_lista = promedio(lista)\n",
        "print(\"El promedio de la lista es:\", promedio_lista)\n"
      ],
      "metadata": {
        "colab": {
          "base_uri": "https://localhost:8080/"
        },
        "id": "hbxmEw8L4g5V",
        "outputId": "a9b6d929-84ef-4bc4-b746-212be055c16c"
      },
      "execution_count": 27,
      "outputs": [
        {
          "output_type": "stream",
          "name": "stdout",
          "text": [
            "El promedio de la lista es: 22.375\n"
          ]
        }
      ]
    },
    {
      "cell_type": "markdown",
      "source": [
        "#Punto 15"
      ],
      "metadata": {
        "id": "FD4J8vp_hAfe"
      }
    },
    {
      "cell_type": "code",
      "source": [
        "def obtener_claves(diccionario):\n",
        "    return list(diccionario.keys())\n",
        "d = {'a': 4, 'b': 5, 'c': 6}\n",
        "claves = obtener_claves(d)\n",
        "print(claves)\n"
      ],
      "metadata": {
        "colab": {
          "base_uri": "https://localhost:8080/"
        },
        "id": "A5-9asel4qU1",
        "outputId": "58b98bc5-714b-4dd2-cd2e-495181781856"
      },
      "execution_count": 29,
      "outputs": [
        {
          "output_type": "stream",
          "name": "stdout",
          "text": [
            "['a', 'b', 'c']\n"
          ]
        }
      ]
    },
    {
      "cell_type": "markdown",
      "source": [
        "#Punto 16"
      ],
      "metadata": {
        "id": "WACJLb3khAZP"
      }
    },
    {
      "cell_type": "code",
      "source": [
        "def obtener_maximo(lista):\n",
        "    return max(lista) if len(lista) > 0 else None\n",
        "lista = [4, 8, 10, 15, 16, 21, 23, 42, 48]\n",
        "maximo = obtener_maximo(lista)\n",
        "print(\"El valor máximo en la lista es:\", maximo)\n"
      ],
      "metadata": {
        "colab": {
          "base_uri": "https://localhost:8080/"
        },
        "id": "NFkzFrSC45Bi",
        "outputId": "3708d2e9-27f5-4500-bd37-fd61cb1875f9"
      },
      "execution_count": 30,
      "outputs": [
        {
          "output_type": "stream",
          "name": "stdout",
          "text": [
            "El valor máximo en la lista es: 48\n"
          ]
        }
      ]
    },
    {
      "cell_type": "markdown",
      "source": [
        "#Punto 17"
      ],
      "metadata": {
        "id": "d6w92pIRhALv"
      }
    },
    {
      "cell_type": "code",
      "source": [
        "def obtener_vocales(cadena):\n",
        "    vocales = \"\"\n",
        "    for caracter in cadena:\n",
        "        if caracter in \"aeiouAEIOU\":\n",
        "            vocales += caracter\n",
        "    return vocales\n",
        "cadena = \"Hola, mundo!\"\n",
        "vocales = obtener_vocales(cadena)\n",
        "print(\"Las vocales en la cadena son:\", vocales)\n"
      ],
      "metadata": {
        "colab": {
          "base_uri": "https://localhost:8080/"
        },
        "id": "y1PcpBST5GcX",
        "outputId": "b326fdc1-650a-4a45-c6ed-5adc5501210d"
      },
      "execution_count": 31,
      "outputs": [
        {
          "output_type": "stream",
          "name": "stdout",
          "text": [
            "Las vocales en la cadena son: oauo\n"
          ]
        }
      ]
    },
    {
      "cell_type": "markdown",
      "source": [
        "#Punto 18"
      ],
      "metadata": {
        "id": "TCi5PP09g_2l"
      }
    },
    {
      "cell_type": "code",
      "source": [
        "def valores_al_cuadrado(lista):\n",
        "    valores_cuadrados = []\n",
        "    for numero in lista:\n",
        "        valores_cuadrados.append(numero ** 2)\n",
        "    return valores_cuadrados\n",
        "lista = [1, 2, 3, 4, 5, 6, 7, 8]\n",
        "valores_cuadrados = valores_al_cuadrado(lista)\n",
        "print(\"Los valores al cuadrado de la lista son:\", valores_cuadrados)\n"
      ],
      "metadata": {
        "colab": {
          "base_uri": "https://localhost:8080/"
        },
        "id": "T5K9J_5p5S-m",
        "outputId": "42ad98e7-4cbf-4f3c-8b96-1e626172c71b"
      },
      "execution_count": 32,
      "outputs": [
        {
          "output_type": "stream",
          "name": "stdout",
          "text": [
            "Los valores al cuadrado de la lista son: [1, 4, 9, 16, 25, 36, 49, 64]\n"
          ]
        }
      ]
    },
    {
      "cell_type": "markdown",
      "source": [
        "#Punto 19"
      ],
      "metadata": {
        "id": "NVDZkBOGg-4f"
      }
    },
    {
      "cell_type": "code",
      "source": [
        "def invertir_cadena(cadena):\n",
        "    return cadena[::-1]\n",
        "cadena = \"adan\"\n",
        "cadena_invertida = invertir_cadena(cadena)\n",
        "print(\"La cadena invertida es:\", cadena_invertida)\n"
      ],
      "metadata": {
        "colab": {
          "base_uri": "https://localhost:8080/"
        },
        "id": "YfPRAiqS5dgF",
        "outputId": "af41971e-f8b9-4fc7-d746-3e1613e1ef3f"
      },
      "execution_count": 34,
      "outputs": [
        {
          "output_type": "stream",
          "name": "stdout",
          "text": [
            "La cadena invertida es: nada\n"
          ]
        }
      ]
    },
    {
      "cell_type": "markdown",
      "source": [
        "#Punto 20"
      ],
      "metadata": {
        "id": "Uh2QBjy4g-0-"
      }
    },
    {
      "cell_type": "code",
      "source": [
        "def longitud_cadenas(lista_cadenas):\n",
        "    return [len(cadena) for cadena in lista_cadenas]\n",
        "lista_cadenas = [\"oso\", \"nada\", \"radar\", \"atacar\"]\n",
        "longitudes = longitud_cadenas(lista_cadenas)\n",
        "print(\"Las longitudes de las cadenas son:\", longitudes)\n"
      ],
      "metadata": {
        "colab": {
          "base_uri": "https://localhost:8080/"
        },
        "id": "6_ucOucl5ksA",
        "outputId": "672ae2b3-13c6-4e03-bbda-aa43726405ca"
      },
      "execution_count": 38,
      "outputs": [
        {
          "output_type": "stream",
          "name": "stdout",
          "text": [
            "Las longitudes de las cadenas son: [3, 4, 5, 6]\n"
          ]
        }
      ]
    },
    {
      "cell_type": "code",
      "source": [],
      "metadata": {
        "id": "hEOybinPVHp1"
      },
      "execution_count": null,
      "outputs": []
    }
  ]
}